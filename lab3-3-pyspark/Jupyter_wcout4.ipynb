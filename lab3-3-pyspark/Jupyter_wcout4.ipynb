{
 "cells": [
  {
   "cell_type": "code",
   "execution_count": 1,
   "id": "c4f7c480",
   "metadata": {},
   "outputs": [
    {
     "name": "stdout",
     "output_type": "stream",
     "text": [
      "Starting Spark application\n"
     ]
    },
    {
     "data": {
      "text/html": [
       "<table>\n",
       "<tr><th>ID</th><th>YARN Application ID</th><th>Kind</th><th>State</th><th>Spark UI</th><th>Driver log</th><th>User</th><th>Current session?</th></tr><tr><td>1</td><td>application_1732229417576_0011</td><td>pyspark</td><td>idle</td><td><a target=\"_blank\" href=\"http://ip-172-31-19-158.ec2.internal:20888/proxy/application_1732229417576_0011/\">Link</a></td><td><a target=\"_blank\" href=\"http://ip-172-31-28-74.ec2.internal:8042/node/containerlogs/container_1732229417576_0011_01_000001/livy\">Link</a></td><td>None</td><td>✔</td></tr></table>"
      ],
      "text/plain": [
       "<IPython.core.display.HTML object>"
      ]
     },
     "metadata": {},
     "output_type": "display_data"
    },
    {
     "data": {
      "application/vnd.jupyter.widget-view+json": {
       "model_id": "",
       "version_major": 2,
       "version_minor": 0
      },
      "text/plain": [
       "FloatProgress(value=0.0, bar_style='info', description='Progress:', layout=Layout(height='25px', width='50%'),…"
      ]
     },
     "metadata": {},
     "output_type": "display_data"
    },
    {
     "name": "stdout",
     "output_type": "stream",
     "text": [
      "SparkSession available as 'spark'.\n"
     ]
    },
    {
     "data": {
      "application/vnd.jupyter.widget-view+json": {
       "model_id": "",
       "version_major": 2,
       "version_minor": 0
      },
      "text/plain": [
       "FloatProgress(value=0.0, bar_style='info', description='Progress:', layout=Layout(height='25px', width='50%'),…"
      ]
     },
     "metadata": {},
     "output_type": "display_data"
    },
    {
     "name": "stdout",
     "output_type": "stream",
     "text": [
      "[('the', 44647), ('of', 28020), ('to', 23208), ('and', 20444), ('in', 13174), ('that', 12265), ('I', 10880), ('a', 10431), ('is', 7776), ('be', 7148)]"
     ]
    }
   ],
   "source": [
    "# Leer archivos desde HDFS\n",
    "files_rdd = sc.textFile(\"hdfs:///user/hadoop/datasets/gutenberg-small/*.txt\")\n",
    "\n",
    "# WordCount\n",
    "wc_unsort = files_rdd.flatMap(lambda line: line.split()) \\\n",
    "                      .map(lambda word: (word, 1)) \\\n",
    "                      .reduceByKey(lambda a, b: a + b)\n",
    "\n",
    "wc = wc_unsort.sortBy(lambda a: -a[1])\n",
    "\n",
    "# Mostrar las 10 palabras más frecuentes\n",
    "print(wc.take(10))\n",
    "\n",
    "# Guardar el resultado en HDFS\n",
    "wc.coalesce(1).saveAsTextFile(\"hdfs:///tmp/wcout4\")\n"
   ]
  },
  {
   "cell_type": "code",
   "execution_count": 2,
   "id": "af31c58e",
   "metadata": {},
   "outputs": [
    {
     "data": {
      "application/vnd.jupyter.widget-view+json": {
       "model_id": "",
       "version_major": 2,
       "version_minor": 0
      },
      "text/plain": [
       "FloatProgress(value=0.0, bar_style='info', description='Progress:', layout=Layout(height='25px', width='50%'),…"
      ]
     },
     "metadata": {},
     "output_type": "display_data"
    }
   ],
   "source": [
    "wc.coalesce(1).saveAsTextFile(\"s3://sbetancurb/wcout4\")"
   ]
  },
  {
   "cell_type": "code",
   "execution_count": null,
   "id": "db4a98b7",
   "metadata": {},
   "outputs": [],
   "source": []
  }
 ],
 "metadata": {
  "kernelspec": {
   "display_name": "PySpark",
   "language": "python",
   "name": "pysparkkernel"
  },
  "language_info": {
   "codemirror_mode": {
    "name": "python",
    "version": 3
   },
   "file_extension": ".py",
   "mimetype": "text/x-python",
   "name": "pyspark",
   "pygments_lexer": "python3"
  }
 },
 "nbformat": 4,
 "nbformat_minor": 5
}
