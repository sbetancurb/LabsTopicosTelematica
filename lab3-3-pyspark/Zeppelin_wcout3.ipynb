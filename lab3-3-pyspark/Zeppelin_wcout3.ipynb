{
  "metadata": {
    "name": "wcout3",
    "kernelspec": {
      "display_name": "Python 3", 
      "language": "python", 
      "name": "python3"
    },
    "language_info": {
      "codemirror_mode": {
        "name": "ipython",
        "version": 3
      },
      "file_extension": ".py",
      "mimetype": "text/x-python",
      "name": "python",
      "pygments_lexer": "ipython3",
      "version": "3.8.5"
    }
  },
  "nbformat": 4,
  "nbformat_minor": 2,
  "cells": [
    {
      "cell_type": "code",
      "execution_count": null,
      "metadata": {},
      "outputs": [],
      "source": [
        "# Leer archivos desde HDFS\n",
        "files_rdd = sc.textFile(\"hdfs:///user/hadoop/datasets/gutenberg-small/*.txt\")\n",
        "\n",
        "# WordCount\n",
        "wc_unsort = files_rdd.flatMap(lambda line: line.split()) \\\n",
        "                      .map(lambda word: (word, 1)) \\\n",
        "                      .reduceByKey(lambda a, b: a + b)\n",
        "\n",
        "wc = wc_unsort.sortBy(lambda a: -a[1])\n",
        "\n",
        "# Mostrar las 10 palabras más frecuentes\n",
        "for tupla in wc.take(10):\n",
        "    print(tupla)\n",
        "\n",
        "# Guardar el resultado en HDFS\n",
        "wc.coalesce(1).saveAsTextFile(\"hdfs:///tmp/wcout3\")\n"
      ]
    }
  ]
}
